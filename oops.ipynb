{
  "nbformat": 4,
  "nbformat_minor": 0,
  "metadata": {
    "colab": {
      "provenance": []
    },
    "kernelspec": {
      "name": "python3",
      "display_name": "Python 3"
    },
    "language_info": {
      "name": "python"
    }
  },
  "cells": [
    {
      "cell_type": "markdown",
      "source": [
        "# **PYTHON OOPS THEORY QUESTIONS**\n"
      ],
      "metadata": {
        "id": "N4e27qX-vetL"
      }
    },
    {
      "cell_type": "markdown",
      "source": [
        "Q1) What is Object-Oriented Programming (OOP)?\n",
        "- OOP is a programming approach that helps developer create robust, scalable, and maintainable software by organizing code around objects and their interactions."
      ],
      "metadata": {
        "id": "TMbyfHdVvcqz"
      }
    },
    {
      "cell_type": "markdown",
      "source": [
        "Q2)What is a class in OOP?\n",
        "- In OOP, a class is blueprint or template for creating objects. It defines the properties and behaviours that objects created from the class will have."
      ],
      "metadata": {
        "id": "32cgTDL1vc5k"
      }
    },
    {
      "cell_type": "markdown",
      "source": [
        "Q3)What is an object in OOP?\n",
        "- In OOP, an object is an instance of a class. It represents a real life entity or concept and has its own set of attribute and methods."
      ],
      "metadata": {
        "id": "6RdeKHHCvdFV"
      }
    },
    {
      "cell_type": "markdown",
      "source": [
        "Q4) What is the difference between abstraction and encapsulation?\n",
        "- Abstraction helps to simplify complex system by exposing only essential featurs, while encapsulation helps to bundle data and behavior, protecting internal implementation details and controlling access to an object's state and behavior."
      ],
      "metadata": {
        "id": "48JS8okHvdPV"
      }
    },
    {
      "cell_type": "markdown",
      "source": [
        "Q5) What are dunder methods in Python?\n",
        "- Dunder methods are methods of defined by built in classes in python, classes defines these types of methods for creating custom objects, for init it means data for every object and implementing operator overloading in python."
      ],
      "metadata": {
        "id": "_c12JnzVvdSA"
      }
    },
    {
      "cell_type": "markdown",
      "source": [
        "Q6) Explain the concept of inheritance in OOP?\n",
        "- Concept of inheritance refers to process of child class recieving the properties of parent class."
      ],
      "metadata": {
        "id": "IrTN4nKovdUt"
      }
    },
    {
      "cell_type": "markdown",
      "source": [
        "Q7) What is polymorphism in OOP?\n",
        "- In OOP, polymorphism refers to an object's capacity to assume several forms. Simply said, polymorphism enables us to carry out a single activity in a variety of ways."
      ],
      "metadata": {
        "id": "4htEradevdYS"
      }
    },
    {
      "cell_type": "markdown",
      "source": [
        "Q8) How is encapsulation achieved in Python?\n",
        "- Encapsulation in python is achieved through the use of classes and objects. Python doesn't have strict access modifiers like some other languages(e.g., public, private, protected), but it uses naming conventions and a bit of discipline to achieve encapsulation."
      ],
      "metadata": {
        "id": "xleej_F6MgdB"
      }
    },
    {
      "cell_type": "markdown",
      "source": [
        "Q9) What is a constructor in Python?\n",
        "- A constructor is a particular method used in object-oriented programming to generate and initialise an object of a class."
      ],
      "metadata": {
        "id": "EOF7WEoFMgo3"
      }
    },
    {
      "cell_type": "markdown",
      "source": [
        "Q10) What are class and static methods in Python?\n",
        "- Class Method is used to access or alter the class state. If we exclusively use class variables when implementing a method, we should declare that method as a class method.\n",
        "- Static Method: It is a general utility method that handle a single task. Since this method is static and doesn't have access to class attributes, we don't use instance or class method in it."
      ],
      "metadata": {
        "id": "rAxqh-f6Mgx1"
      }
    },
    {
      "cell_type": "markdown",
      "source": [
        "Q11) What is method overloading in Python?\n",
        "- Method of overloading is the practise of invoking the same method more\n",
        "than once with different parameters.\n"
      ],
      "metadata": {
        "id": "EXDJPBmdMg7y"
      }
    },
    {
      "cell_type": "markdown",
      "source": [
        "Q12)What is method overriding in OOP?\n",
        "- Method overriding polymporphism enables us to define the child class method with the same name as per parent class methods. The act of overriding on the inherited methodin a child class is referred to as method of overriding."
      ],
      "metadata": {
        "id": "PIY1BGiSMhZJ"
      }
    },
    {
      "cell_type": "markdown",
      "source": [
        "Q13) What is a property decorator in Python?\n",
        "- The property method in python allows you to implement getter, setter, and deleter functionability for attributes in a class. It provides a way to customize access to instance data, enabling you to add logic to attribute access and modification."
      ],
      "metadata": {
        "id": "-U-RX_NHMhky"
      }
    },
    {
      "cell_type": "markdown",
      "source": [
        "Q14) Why is polymorphism important in OOP?\n",
        "- Polymorphism in concept in OOP that enables objects of different class to be treated as objects of common superclasses. This allows for more flexibility, modularity, and generic code.\n",
        "Importance: Abstraction, Modularity, Reusability, and Easier extensions."
      ],
      "metadata": {
        "id": "RZzEQi39Mhul"
      }
    },
    {
      "cell_type": "markdown",
      "source": [
        "Q15) What is an abstract class in Python?\n",
        "- In python, an abstract class is a class that cannot be initiated on its own and is designed to be inherited by other classes. It typically contains one or more abstract method, which are methods declared without an implementation."
      ],
      "metadata": {
        "id": "fVarrFGDMh0F"
      }
    },
    {
      "cell_type": "markdown",
      "source": [
        "Q16) What are the advantages of OOP?\n",
        "- 1) Modularity  2) Reusability  3) Flexibility and Maintainability  4)Abstraction  5) Encapsulation  6) Polymorphism."
      ],
      "metadata": {
        "id": "ht53MzWFMh6S"
      }
    },
    {
      "cell_type": "markdown",
      "source": [
        "Q17)What is the difference between a class variable and an instance variable?\n",
        "- Class variables and instance variable are two types of variables used in classes. The main difference between them is their scope and how they are accessed.\n",
        "Class variable:\n",
        "- Shared among all instances.\n",
        "- Defined inside the class but outside method.\n",
        "- Accessed via class or instance.\n",
        "Instance variable:\n",
        "- Unique to each instance.\n",
        "- Defined inside a method.\n",
        "- Accessed via instance."
      ],
      "metadata": {
        "id": "mv1Pq11dMiAB"
      }
    },
    {
      "cell_type": "markdown",
      "source": [
        "Q18)What is multiple inheritance in Python?\n",
        "- Multiple inheritance in python is a inheritance where one child class may inherit from several parent classes."
      ],
      "metadata": {
        "id": "70ysjM8lMiEh"
      }
    },
    {
      "cell_type": "markdown",
      "source": [
        "Q19)Explain the purpose of \" --str--' and ' --repr--\" methods in Python.\n",
        "- __ _str_ __ : This method is called when the str() function is used on an instance of a class. It should return a string representation of object.\n",
        "- __ _repr_ __ : This method is called when the repr() function is used on an instance of the class. It sould return an unambiguous string representaion of the object, which can be used to recreate the object.\n"
      ],
      "metadata": {
        "id": "M8NHpUAEMiLr"
      }
    },
    {
      "cell_type": "markdown",
      "source": [
        "Q20) What is the significance of the ‘super()’ function in Python?\n",
        "- The super() function in python is a built-in function that allows you to access methods and properties of a parent class (also known as superclass) from a child class. It's a way to delegate method calls to a parent class, enabling method overriding and extension."
      ],
      "metadata": {
        "id": "oKjCEwnOMiRd"
      }
    },
    {
      "cell_type": "markdown",
      "source": [
        "Q21) What is the significance of the --del-- method in Python?\n",
        "- __ del __ method is a method called when an object is about to destroyed.\n",
        "Used for resource cleanup, memory management, and object lifecycle management.\n",
        "\n"
      ],
      "metadata": {
        "id": "Jzgj9pQkMiXa"
      }
    },
    {
      "cell_type": "markdown",
      "source": [
        "Q22)What is the difference between @staticmethod and @classmethod in Python?\n",
        "- Static methods are used when you don't need access to class or instance state, and Class methods are used when you need to access or modify class-level attributes.\n",
        "Class method are defined with @classmethod decorators and static method are defined with @staticmethod decorators."
      ],
      "metadata": {
        "id": "LaCr8x69Qg_K"
      }
    },
    {
      "cell_type": "markdown",
      "source": [
        "Q23) How does polymorphism work in Python with inheritance?\n",
        "- In python, polymorphism with inheritance  is achieved through the method overloading and method of overriding."
      ],
      "metadata": {
        "id": "N4DB_TG4QhN_"
      }
    },
    {
      "cell_type": "markdown",
      "source": [
        "Q24) What is method chaining in Python OOP?\n",
        "- Method chaining is a technique in python where multiple methods are called on the same object in a single line of code. Each method returns the object itself, allowing the next method to be called on the same object."
      ],
      "metadata": {
        "id": "Z6yynOAVRapu"
      }
    },
    {
      "cell_type": "markdown",
      "source": [
        "Q25)What is the purpose of the _ __call_ _ _method in Python?\n",
        "- The __ call__ method is a special method in python classes that allows instances of a class to be called as function."
      ],
      "metadata": {
        "id": "PHLR5DYMRaz3"
      }
    },
    {
      "cell_type": "markdown",
      "source": [
        "#**Practical Questions**"
      ],
      "metadata": {
        "id": "9bBvDkkcRtej"
      }
    },
    {
      "cell_type": "code",
      "source": [
        "#1). Create a parent class Animal with a method speak() that prints a generic message. Create a child class Dog that overrides the speak() method to print \"Bark!\".\n",
        "\n",
        "class Animal:\n",
        "    def speak(self):\n",
        "        print(\"Generic animal sound\")\n",
        "\n",
        "class Dog(Animal):\n",
        "    def speak(self):\n",
        "        print(\"Bark!\")\n",
        "\n",
        "animal = Animal()\n",
        "animal.speak()\n",
        "\n",
        "dog = Dog()\n",
        "dog.speak()"
      ],
      "metadata": {
        "id": "Dn1VLsxwSSLc",
        "colab": {
          "base_uri": "https://localhost:8080/"
        },
        "outputId": "d86ebe6f-3bc9-489e-b9f4-f1e240574161"
      },
      "execution_count": 41,
      "outputs": [
        {
          "output_type": "stream",
          "name": "stdout",
          "text": [
            "Generic animal sound\n",
            "Bark!\n"
          ]
        }
      ]
    },
    {
      "cell_type": "code",
      "source": [
        "#2. Write a program to create an abstract class Shape with a method area(). Derive classes Circle and Rectangle from it and implement the area() method in both.\n",
        "from abc import ABC, abstractmethod\n",
        "import math\n",
        "\n",
        "class Shape(ABC):\n",
        "    @abstractmethod\n",
        "    def area(self):\n",
        "        pass\n",
        "\n",
        "class Circle(Shape):\n",
        "    def __init__(self, radius):\n",
        "        self.radius = radius\n",
        "\n",
        "    def area(self):\n",
        "        return math.pi * self.radius**2\n",
        "\n",
        "class Rectangle(Shape):\n",
        "    def __init__(self, length, width):\n",
        "        self.length = length\n",
        "        self.width = width\n",
        "\n",
        "    def area(self):\n",
        "        return self.length * self.width\n",
        "\n",
        "\n",
        "circle = Circle(5)\n",
        "print(f\"Area of Circle: {circle.area()}\")\n",
        "\n",
        "rectangle = Rectangle(4, 6)\n",
        "print(f\"Area of Rectangle: {rectangle.area()}\")"
      ],
      "metadata": {
        "id": "bG9ukWCBSSwA",
        "colab": {
          "base_uri": "https://localhost:8080/"
        },
        "outputId": "6420e759-ad49-4086-b2fc-0d1e8a96a534"
      },
      "execution_count": null,
      "outputs": [
        {
          "output_type": "stream",
          "name": "stdout",
          "text": [
            "Area of Circle: 78.53981633974483\n",
            "Area of Rectangle: 24\n"
          ]
        }
      ]
    },
    {
      "cell_type": "code",
      "source": [
        "#3. Implement a multi-level inheritance scenario where a class Vehicle has an attribute type. Derive a class Car and further derive a class ElectricCar that adds a battery attribute.\n",
        "\n",
        "class Vehicle:\n",
        "    def __init__(self, vehicle_type):\n",
        "        self.vehicle_type = vehicle_type\n",
        "\n",
        "    def display_type(self):\n",
        "        print(f\"Vehicle Type: {self.vehicle_type}\")\n",
        "\n",
        "class Car(Vehicle):\n",
        "    def __init__(self, vehicle_type, model):\n",
        "        super().__init__(vehicle_type)\n",
        "        self.model = model\n",
        "\n",
        "    def display_model(self):\n",
        "        print(f\"Car Model: {self.model}\")\n",
        "\n",
        "class ElectricCar(Car):\n",
        "    def __init__(self, vehicle_type, model, battery_capacity):\n",
        "        super().__init__(vehicle_type, model)\n",
        "        self.battery_capacity = battery_capacity\n",
        "\n",
        "    def display_battery(self):\n",
        "        print(f\"Battery Capacity: {self.battery_capacity} kWh\")\n",
        "\n",
        "vehicle = Vehicle(\"Sedan\")\n",
        "vehicle.display_type()\n",
        "\n",
        "car = Car(\"SUV\", \"Explorer\")\n",
        "car.display_type()\n",
        "car.display_model()\n",
        "\n",
        "electric_car = ElectricCar(\"Hatchback\", \"Leaf\", 40)\n",
        "electric_car.display_type()\n",
        "electric_car.display_model()\n",
        "electric_car.display_battery()"
      ],
      "metadata": {
        "id": "m-0TncbISS2t",
        "colab": {
          "base_uri": "https://localhost:8080/"
        },
        "outputId": "86a22ae8-2921-46ca-c6d6-0d525b75b6f5"
      },
      "execution_count": null,
      "outputs": [
        {
          "output_type": "stream",
          "name": "stdout",
          "text": [
            "Vehicle Type: Sedan\n",
            "Vehicle Type: SUV\n",
            "Car Model: Explorer\n",
            "Vehicle Type: Hatchback\n",
            "Car Model: Leaf\n",
            "Battery Capacity: 40 kWh\n"
          ]
        }
      ]
    },
    {
      "cell_type": "code",
      "source": [
        "#4. Demonstrate polymorphism by creating a base class Bird with a method fly(). Create two derived classes Sparrow and Penguin that override the fly() method.\n",
        "\n",
        "class Bird:\n",
        "    def fly(self):\n",
        "        print(\"Most birds can fly.\")\n",
        "\n",
        "class Sparrow(Bird):\n",
        "    def fly(self):\n",
        "        print(\"Sparrows fly at moderate speeds.\")\n",
        "\n",
        "class Penguin(Bird):\n",
        "    def fly(self):\n",
        "        print(\"Penguins cannot fly, they swim.\")\n",
        "\n",
        "bird = Bird()\n",
        "bird.fly()\n",
        "\n",
        "sparrow = Sparrow()\n",
        "sparrow.fly()\n",
        "\n",
        "penguin = Penguin()\n",
        "penguin.fly()"
      ],
      "metadata": {
        "id": "Oteqk3cGSS8Q",
        "colab": {
          "base_uri": "https://localhost:8080/"
        },
        "outputId": "b6609aae-3631-4f53-94f9-f320bf61ed42"
      },
      "execution_count": null,
      "outputs": [
        {
          "output_type": "stream",
          "name": "stdout",
          "text": [
            "Most birds can fly.\n",
            "Sparrows fly at moderate speeds.\n",
            "Penguins cannot fly, they swim.\n"
          ]
        }
      ]
    },
    {
      "cell_type": "code",
      "source": [
        "#5. Write a program to demonstrate encapsulation by creating a class BankAccount with private attributes balance and methods to deposit, withdraw, and check balance.\n",
        "\n",
        "class BankAccount:\n",
        "    def __init__(self, initial_balance=0):\n",
        "        self.__balance = initial_balance  # Private attribute\n",
        "\n",
        "    def deposit(self, amount):\n",
        "        if amount > 0:\n",
        "            self.__balance += amount\n",
        "            print(f\"Deposited: Rs{amount}. New balance: Rs{self.__balance}\")\n",
        "        else:\n",
        "            print(\"Deposit amount must be positive.\")\n",
        "\n",
        "    def withdraw(self, amount):\n",
        "        if amount > 0 and amount <= self.__balance:\n",
        "            self.__balance -= amount\n",
        "            print(f\"Withdrew: Rs{amount}. New balance: Rs{self.__balance}\")\n",
        "        elif amount > self.__balance:\n",
        "            print(\"Insufficient funds.\")\n",
        "        else:\n",
        "            print(\"Withdrawal amount must be positive.\")\n",
        "\n",
        "    def check_balance(self):\n",
        "        print(f\"Current balance: Rs{self.__balance}\")\n",
        "\n",
        "\n",
        "       # encapsulation\n",
        "account = BankAccount(1000)\n",
        "account.check_balance()\n",
        "account.deposit(500)\n",
        "account.withdraw(200)\n",
        "account.check_balance()\n",
        "account.withdraw(2000)          # Attempt to withdraw more than balance\n",
        "account.deposit(-100)           # Attempt to deposit negative amount"
      ],
      "metadata": {
        "id": "9SJYv0Q6STBK",
        "colab": {
          "base_uri": "https://localhost:8080/"
        },
        "outputId": "817d0acc-04c1-4bc5-eb6e-d602c0139151"
      },
      "execution_count": 39,
      "outputs": [
        {
          "output_type": "stream",
          "name": "stdout",
          "text": [
            "Current balance: Rs1000\n",
            "Deposited: Rs500. New balance: Rs1500\n",
            "Withdrew: Rs200. New balance: Rs1300\n",
            "Current balance: Rs1300\n",
            "Insufficient funds.\n",
            "Deposit amount must be positive.\n"
          ]
        }
      ]
    },
    {
      "cell_type": "code",
      "source": [
        "#6. Demonstrate runtime polymorphism using a method play() in a base class Instrument. Derive classes Guitar and Piano that implement their own version of play().\n",
        "\n",
        "class Instrument:\n",
        "    def play(self):\n",
        "        print(\"Playing an instrument sound.\")\n",
        "\n",
        "class Guitar(Instrument):\n",
        "    def play(self):\n",
        "        print(\"Strumming the guitar strings.\")\n",
        "\n",
        "class Piano(Instrument):\n",
        "    def play(self):\n",
        "        print(\"Playing the piano keys.\")\n",
        "\n",
        "\n",
        "def make_instrument_play(instrument):\n",
        "    instrument.play()\n",
        "\n",
        "instrument = Instrument()\n",
        "guitar = Guitar()\n",
        "piano = Piano()\n",
        "\n",
        "make_instrument_play(instrument)\n",
        "make_instrument_play(guitar)\n",
        "make_instrument_play(piano)"
      ],
      "metadata": {
        "id": "zjoWZQJRSTHB",
        "colab": {
          "base_uri": "https://localhost:8080/"
        },
        "outputId": "824e0ceb-1fa0-4e82-e545-a817901421e0"
      },
      "execution_count": 37,
      "outputs": [
        {
          "output_type": "stream",
          "name": "stdout",
          "text": [
            "Playing an instrument sound.\n",
            "Strumming the guitar strings.\n",
            "Playing the piano keys.\n"
          ]
        }
      ]
    },
    {
      "cell_type": "code",
      "source": [
        "#7. Create a class MathOperations with a class method add_numbers() to add two numbers and a static method subtract_numbers() to subtract two numbers.\n",
        "\n",
        "class MathOperations:\n",
        "    @classmethod\n",
        "    def add_numbers(cls, x, y):\n",
        "        return x + y\n",
        "\n",
        "    @staticmethod\n",
        "    def subtract_numbers(x, y):\n",
        "        return x - y\n",
        "\n",
        "print(f\"Sum: {MathOperations.add_numbers(10, 5)}\")\n",
        "print(f\"Difference: {MathOperations.subtract_numbers(10, 5)}\")"
      ],
      "metadata": {
        "id": "f0FyhGTjSTOV",
        "colab": {
          "base_uri": "https://localhost:8080/"
        },
        "outputId": "4e3cceba-5333-49c6-fb44-8c4d448a1df9"
      },
      "execution_count": 36,
      "outputs": [
        {
          "output_type": "stream",
          "name": "stdout",
          "text": [
            "Sum: 15\n",
            "Difference: 5\n"
          ]
        }
      ]
    },
    {
      "cell_type": "code",
      "source": [
        "#8. Implement a class Person with a class method to count the total number of persons created.\n",
        "\n",
        "class Person:\n",
        "    count = 0  # Class variable to keep track of the number of instances\n",
        "\n",
        "    def __init__(self, name):\n",
        "        self.name = name\n",
        "        Person.count += 1 # Increment the count when a new instance is created\n",
        "\n",
        "    @classmethod\n",
        "    def get_person_count(cls):\n",
        "        return cls.count\n",
        "\n",
        "person1 = Person(\"Ali\")\n",
        "person2 = Person(\"Rohan\")\n",
        "person3 = Person(\"Rita\")\n",
        "\n",
        "print(f\"Total number of persons created: {Person.get_person_count()}\")"
      ],
      "metadata": {
        "id": "MADQ_zZgTm1M",
        "colab": {
          "base_uri": "https://localhost:8080/"
        },
        "outputId": "006f9de5-b25c-4e7e-cbb1-7372bc894c58"
      },
      "execution_count": 35,
      "outputs": [
        {
          "output_type": "stream",
          "name": "stdout",
          "text": [
            "Total number of persons created: 3\n"
          ]
        }
      ]
    },
    {
      "cell_type": "code",
      "source": [
        "#9. Write a class Fraction with attributes numerator and denominator. Override the str method to display the fraction as \"numerator/denominator\".\n",
        "\n",
        "class Fraction:\n",
        "    def __init__(self, numerator, denominator):\n",
        "        self.numerator = numerator\n",
        "        self.denominator = denominator\n",
        "\n",
        "    def __str__(self):\n",
        "        return f\"{self.numerator}/{self.denominator}\"\n",
        "\n",
        "# the __str__ method\n",
        "fraction = Fraction(3, 4)\n",
        "print(fraction)"
      ],
      "metadata": {
        "id": "xmJAKNbXTnAD",
        "colab": {
          "base_uri": "https://localhost:8080/"
        },
        "outputId": "7f7b75fe-6620-4dcd-9839-90c03509366b"
      },
      "execution_count": 33,
      "outputs": [
        {
          "output_type": "stream",
          "name": "stdout",
          "text": [
            "3/4\n"
          ]
        }
      ]
    },
    {
      "cell_type": "code",
      "source": [
        "#10. Demonstrate operator overloading by creating a class Vector and overriding the add method to add two vectors.\n",
        "\n",
        "class Vector:\n",
        "    def __init__(self, x, y):\n",
        "        self.x = x\n",
        "        self.y = y\n",
        "\n",
        "    def __add__(self, other):\n",
        "        if isinstance(other, Vector):\n",
        "            return Vector(self.x + other.x, self.y + other.y)\n",
        "        else:\n",
        "            raise TypeError(\"Can only add Vector objects\")\n",
        "\n",
        "    def __str__(self):\n",
        "        return f\"Vector({self.x}, {self.y})\"\n",
        "\n",
        "# operator overloading\n",
        "v1 = Vector(2, 3)\n",
        "v2 = Vector(4, 1)\n",
        "v3 = v1 + v2\n",
        "print(v3)"
      ],
      "metadata": {
        "id": "E-SPRaGYTnG4",
        "colab": {
          "base_uri": "https://localhost:8080/"
        },
        "outputId": "f18f493b-930e-4a76-9698-c2780ce29981"
      },
      "execution_count": 32,
      "outputs": [
        {
          "output_type": "stream",
          "name": "stdout",
          "text": [
            "Vector(6, 4)\n"
          ]
        }
      ]
    },
    {
      "cell_type": "code",
      "source": [
        "#11. Create a class Person with attributes name and age. Add a method greet() that prints \"Hello, my name is {name} and I am {age} years old.\"\n",
        "\n",
        "class Person:\n",
        "    def __init__(self, name, age):\n",
        "        self.name = name\n",
        "        self.age = age\n",
        "\n",
        "    def greet(self):\n",
        "        print(f\"Hello, my name is {self.name} and I am {self.age} years old.\")\n",
        "\n",
        "person = Person(\"Roshanara\", 25)\n",
        "person.greet()"
      ],
      "metadata": {
        "id": "YXYKzRHbTnNL",
        "colab": {
          "base_uri": "https://localhost:8080/"
        },
        "outputId": "a8ca938f-f275-48c1-8bac-f6df88785891"
      },
      "execution_count": 30,
      "outputs": [
        {
          "output_type": "stream",
          "name": "stdout",
          "text": [
            "Hello, my name is Roshanara and I am 25 years old.\n"
          ]
        }
      ]
    },
    {
      "cell_type": "code",
      "source": [
        "#12. Implement a class Student with attributes name and grades. Create a method average_grade() to compute the average of the grades.\n",
        "\n",
        "class Student:\n",
        "    def __init__(self, name, grades):\n",
        "        self.name = name\n",
        "        self.grades = grades\n",
        "\n",
        "    def average_grade(self):\n",
        "        if not self.grades:\n",
        "            return 0\n",
        "        return sum(self.grades) / len(self.grades)\n",
        "\n",
        "student1 = Student(\"Babita\", [85, 90, 88, 92])\n",
        "print(f\"{student1.name}'s average grade: {student1.average_grade()}\")\n",
        "\n",
        "student2 = Student(\"Ali\", [85, 70, 75, 90])\n",
        "print(f\"{student2.name}'s average grade: {student2.average_grade()}\")"
      ],
      "metadata": {
        "id": "3rCCihtzTnSX",
        "colab": {
          "base_uri": "https://localhost:8080/"
        },
        "outputId": "540b0fd0-985a-4a4b-8fb4-470aada03312"
      },
      "execution_count": 28,
      "outputs": [
        {
          "output_type": "stream",
          "name": "stdout",
          "text": [
            "Babita's average grade: 88.75\n",
            "Ali's average grade: 80.0\n"
          ]
        }
      ]
    },
    {
      "cell_type": "code",
      "source": [
        "#13. Create a class Rectangle with methods set_dimensions() to set the dimensions and area() to calculate the area.\n",
        "\n",
        "class Rectangle:\n",
        "    def __init__(self):\n",
        "        self.length = 0\n",
        "        self.width = 0\n",
        "\n",
        "    def set_dimensions(self, length, width):\n",
        "        self.length = length\n",
        "        self.width = width\n",
        "\n",
        "    def area(self):\n",
        "        return self.length * self.width\n",
        "\n",
        "rectangle = Rectangle()\n",
        "rectangle.set_dimensions(10, 5)\n",
        "print(f\"Area of Rectangle: {rectangle.area()}\")"
      ],
      "metadata": {
        "id": "HOQGLP5hTnXo",
        "colab": {
          "base_uri": "https://localhost:8080/"
        },
        "outputId": "562f2668-08c1-4c89-fd90-9f3f74c6e015"
      },
      "execution_count": 24,
      "outputs": [
        {
          "output_type": "stream",
          "name": "stdout",
          "text": [
            "Area of Rectangle: 50\n"
          ]
        }
      ]
    },
    {
      "cell_type": "code",
      "source": [
        "#14. Create a class Employee with a method calculate_salary() that computes the salary based on hours worked and hourly rate. Create a derived class Manager that adds a bonus to the salary.\n",
        "\n",
        "class Employee:\n",
        "    def __init__(self, hours_worked, hourly_rate):\n",
        "        self.hours_worked = hours_worked\n",
        "        self.hourly_rate = hourly_rate\n",
        "\n",
        "    def calculate_salary(self):\n",
        "        return self.hours_worked * self.hourly_rate\n",
        "\n",
        "class Manager(Employee):\n",
        "    def __init__(self, hours_worked, hourly_rate, bonus):\n",
        "        super().__init__(hours_worked, hourly_rate)\n",
        "        self.bonus = bonus\n",
        "\n",
        "    def calculate_salary(self):\n",
        "        base_salary = super().calculate_salary()\n",
        "        return base_salary + self.bonus\n",
        "\n",
        "\n",
        "employee = Employee(400, 200)\n",
        "print(f\"Employee salary: Rs{employee.calculate_salary()}\")\n",
        "\n",
        "manager = Manager(400, 200, 500)\n",
        "print(f\"Manager salary: Rs{manager.calculate_salary()}\")"
      ],
      "metadata": {
        "id": "Cu7NfL7KTneN",
        "colab": {
          "base_uri": "https://localhost:8080/"
        },
        "outputId": "f9b78a3b-319a-4a5b-c64d-112a1be893fb"
      },
      "execution_count": 23,
      "outputs": [
        {
          "output_type": "stream",
          "name": "stdout",
          "text": [
            "Employee salary: Rs80000\n",
            "Manager salary: Rs80500\n"
          ]
        }
      ]
    },
    {
      "cell_type": "code",
      "source": [
        "#15. Create a class Product with attributes name, price, and quantity. Implement a method total_price() that calculates the total price of the product.\n",
        "\n",
        "class Product:\n",
        "    def __init__(self, name, price, quantity):\n",
        "        self.name = name\n",
        "        self.price = price\n",
        "        self.quantity = quantity\n",
        "\n",
        "    def total_price(self):\n",
        "        return self.price * self.quantity\n",
        "\n",
        "\n",
        "product = Product(\"Laptop\", 52000, 2)\n",
        "print(f\"Total price of {product.name}: Rs{product.total_price()}\")"
      ],
      "metadata": {
        "id": "JdqsoP2XUU1v",
        "colab": {
          "base_uri": "https://localhost:8080/"
        },
        "outputId": "17bb43cd-5243-4443-a5ad-8a9fdfccfde5"
      },
      "execution_count": 18,
      "outputs": [
        {
          "output_type": "stream",
          "name": "stdout",
          "text": [
            "Total price of Laptop: Rs104000\n"
          ]
        }
      ]
    },
    {
      "cell_type": "code",
      "source": [
        "#16. Create a class Animal with an abstract method sound(). Create two derived classes Cow and Sheep that implement the sound() method.\n",
        "from abc import ABC, abstractmethod\n",
        "\n",
        "class Animal(ABC):\n",
        "    @abstractmethod\n",
        "    def sound(self):\n",
        "        pass\n",
        "\n",
        "class Cow(Animal):\n",
        "    def sound(self):\n",
        "        return \"Moo\"\n",
        "\n",
        "class Sheep(Animal):\n",
        "    def sound(self):\n",
        "        return \"Baa\"\n",
        "\n",
        "# animal = Animal() # This would raise a TypeError because Animal is an abstract class\n",
        "cow = Cow()\n",
        "print(f\"Cow sound: {cow.sound()}\")\n",
        "\n",
        "sheep = Sheep()\n",
        "print(f\"Sheep sound: {sheep.sound()}\")"
      ],
      "metadata": {
        "id": "zP9jrfpWUU_V",
        "colab": {
          "base_uri": "https://localhost:8080/"
        },
        "outputId": "62127fb1-cc4f-46b7-a5de-128277b2cbee"
      },
      "execution_count": 16,
      "outputs": [
        {
          "output_type": "stream",
          "name": "stdout",
          "text": [
            "Cow sound: Moo\n",
            "Sheep sound: Baa\n"
          ]
        }
      ]
    },
    {
      "cell_type": "code",
      "source": [
        "#17. Create a class Book with attributes title, author, and year_published. Add a method get_book_info() that returns a formatted string with the book's details.\n",
        "\n",
        "class Book:\n",
        "    def __init__(self, title, author, year_published):\n",
        "        self.title = title\n",
        "        self.author = author\n",
        "        self.year_published = year_published\n",
        "\n",
        "    def get_book_info(self):\n",
        "        return f\"Title: {self.title}, Author: {self.author}, Year Published: {self.year_published}\"\n",
        "\n",
        "# Demonstrate the class\n",
        "book = Book(\"Atomic Habits\", \"James Clear\", 2018)\n",
        "print(book.get_book_info())"
      ],
      "metadata": {
        "id": "Lt8Wo1xzUVIg",
        "colab": {
          "base_uri": "https://localhost:8080/"
        },
        "outputId": "a9e5b6af-0282-426c-91f0-bbdac17ce33a"
      },
      "execution_count": 15,
      "outputs": [
        {
          "output_type": "stream",
          "name": "stdout",
          "text": [
            "Title: Atomic Habits, Author: James Clear, Year Published: 2018\n"
          ]
        }
      ]
    },
    {
      "cell_type": "code",
      "source": [
        "# 18. Create a class House with attributes address and price. Create a derived class Mansion that adds an attribute number_of_rooms.\n",
        "\n",
        "class House:\n",
        "    def __init__(self, address, price):\n",
        "        self.address = address\n",
        "        self.price = price\n",
        "\n",
        "    def get_house_info(self):\n",
        "        return f\"Address: {self.address}, Price: Rs{self.price}\"\n",
        "\n",
        "class Mansion(House):\n",
        "    def __init__(self, address, price, number_of_rooms):\n",
        "        super().__init__(address, price)\n",
        "        self.number_of_rooms = number_of_rooms\n",
        "\n",
        "    def get_mansion_info(self):\n",
        "        return f\"{super().get_house_info()}, Number of Rooms: {self.number_of_rooms}\"\n",
        "\n",
        "# Demonstrate the classes\n",
        "house = House(\"123 Main St\", 250000)\n",
        "print(house.get_house_info())\n",
        "\n",
        "mansion = Mansion(\"456 Main Road\", 1500000, 10)\n",
        "print(mansion.get_mansion_info())"
      ],
      "metadata": {
        "id": "-l1kilG6UVRS",
        "colab": {
          "base_uri": "https://localhost:8080/"
        },
        "outputId": "f933e672-a55c-4be1-9a53-80ff27986ef4"
      },
      "execution_count": 14,
      "outputs": [
        {
          "output_type": "stream",
          "name": "stdout",
          "text": [
            "Address: 123 Main St, Price: Rs250000\n",
            "Address: 456 Main Road, Price: Rs1500000, Number of Rooms: 10\n"
          ]
        }
      ]
    }
  ]
}